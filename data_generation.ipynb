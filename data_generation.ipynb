{
 "cells": [
  {
   "cell_type": "code",
   "execution_count": 31,
   "metadata": {},
   "outputs": [],
   "source": [
    "from datadreamer import DataDreamer\n",
    "from datadreamer.llms import OpenAI\n",
    "from datadreamer.steps import DataFromPrompt, Embed, CosineSimilarity\n",
    "from datadreamer.embedders import SentenceTransformersEmbedder\n",
    "import os"
   ]
  },
  {
   "cell_type": "code",
   "execution_count": 25,
   "metadata": {},
   "outputs": [],
   "source": [
    "os.environ[\"OPENAI_API_KEY\"] = input(\"Enter OpenAI API Key\")"
   ]
  },
  {
   "cell_type": "code",
   "execution_count": 32,
   "metadata": {},
   "outputs": [
    {
     "name": "stderr",
     "output_type": "stream",
     "text": [
      "[ \u001b[35m🤖 Data\u001b[33mDr\u001b[31mea\u001b[35mmer\u001b[0m 💤 ] Initialized. 🚀 Dreaming to folder: ./output\n",
      "[ \u001b[35m🤖 Data\u001b[33mDr\u001b[31mea\u001b[35mmer\u001b[0m 💤 ] Step 'Generate Data with Positive Style' results loaded from disk. 🙌 It was previously run and saved.\n",
      "[ \u001b[35m🤖 Data\u001b[33mDr\u001b[31mea\u001b[35mmer\u001b[0m 💤 ] Step 'Generate Data with Negative Style' results loaded from disk. 🙌 It was previously run and saved.\n",
      "[ \u001b[35m🤖 Data\u001b[33mDr\u001b[31mea\u001b[35mmer\u001b[0m 💤 ] Done. ✨ Results in folder: ./output\n"
     ]
    }
   ],
   "source": [
    "with DataDreamer(\"./output\"):\n",
    "    gpt_4 = OpenAI(\n",
    "        model_name=\"gpt-4\",\n",
    "        organization=\"org-bgAXfs8WdU5942SLngg0OGpd\"\n",
    "    )\n",
    "\n",
    "    pos_data = DataFromPrompt(\n",
    "        \"Generate Data with Positive Style\",\n",
    "        args={\n",
    "            \"llm\": gpt_4,\n",
    "            \"n\": 5,\n",
    "            \"temperature\": 1.2,\n",
    "            \"instruction\": (\n",
    "                \"Generate a sentence where words with positive affect are frequently used.\"\n",
    "            ),\n",
    "        },\n",
    "        outputs={\"generations\": \"sentences\"},\n",
    "    )\n",
    "    neg_data = DataFromPrompt(\n",
    "        \"Generate Data with Negative Style\",\n",
    "        args={\n",
    "            \"llm\": gpt_4,\n",
    "            \"n\": 5,\n",
    "            \"temperature\": 1.2,\n",
    "            \"instruction\": (\n",
    "                \"Generate a sentence where words with negative affect are frequently used.\"\n",
    "            ),\n",
    "        },\n",
    "        outputs={\"generations\": \"sentences\"},\n",
    "    )\n"
   ]
  },
  {
   "cell_type": "code",
   "execution_count": 35,
   "metadata": {},
   "outputs": [
    {
     "name": "stderr",
     "output_type": "stream",
     "text": [
      "[ \u001b[35m🤖 Data\u001b[33mDr\u001b[31mea\u001b[35mmer\u001b[0m 💤 ] Initialized. 🚀 Dreaming to folder: ./output\n",
      "[ \u001b[35m🤖 Data\u001b[33mDr\u001b[31mea\u001b[35mmer\u001b[0m 💤 ] Step 'Positive Data Embeddings' results loaded from disk. 🙌 It was previously run and saved.\n",
      "[ \u001b[35m🤖 Data\u001b[33mDr\u001b[31mea\u001b[35mmer\u001b[0m 💤 ] Step 'Negative Data Embeddings' results loaded from disk. 🙌 It was previously run and saved.\n",
      "[ \u001b[35m🤖 Data\u001b[33mDr\u001b[31mea\u001b[35mmer\u001b[0m 💤 ] Done. ✨ Results in folder: ./output\n"
     ]
    }
   ],
   "source": [
    "with DataDreamer(\"./output\"):\n",
    "    pos_embed = Embed(\n",
    "        name = \"Positive Data Embeddings\",\n",
    "        inputs = {\n",
    "            \"texts\": pos_data.output[\"sentences\"]\n",
    "        },\n",
    "        args = {\n",
    "            \"embedder\": SentenceTransformersEmbedder(\n",
    "                model_name=\"AnnaWegmann/Style-Embedding\"\n",
    "            )\n",
    "        },\n",
    "        outputs = {\n",
    "            \"texts\": \"sentences\",\n",
    "            \"embeddings\": \"embeddings\"\n",
    "        },\n",
    "    )\n",
    "    neg_embed = Embed(\n",
    "        name = \"Negative Data Embeddings\",\n",
    "        inputs = {\n",
    "            \"texts\": neg_data.output[\"sentences\"]\n",
    "        },\n",
    "        args = {\n",
    "            \"embedder\": SentenceTransformersEmbedder(\n",
    "                model_name=\"AnnaWegmann/Style-Embedding\"\n",
    "            )\n",
    "        },\n",
    "        outputs = {\n",
    "            \"texts\": \"sentences\",\n",
    "            \"embeddings\": \"embeddings\"\n",
    "        },\n",
    "    )"
   ]
  },
  {
   "cell_type": "code",
   "execution_count": 37,
   "metadata": {},
   "outputs": [
    {
     "name": "stderr",
     "output_type": "stream",
     "text": [
      "[ \u001b[35m🤖 Data\u001b[33mDr\u001b[31mea\u001b[35mmer\u001b[0m 💤 ] Initialized. 🚀 Dreaming to folder: ./output\n",
      "[ \u001b[35m🤖 Data\u001b[33mDr\u001b[31mea\u001b[35mmer\u001b[0m 💤 ] Step 'Cosine Similarities' is running. ⏳\n",
      "[ \u001b[35m🤖 Data\u001b[33mDr\u001b[31mea\u001b[35mmer\u001b[0m 💤 ] Step 'Cosine Similarities' finished and is saved to disk. 🎉\n",
      "[ \u001b[35m🤖 Data\u001b[33mDr\u001b[31mea\u001b[35mmer\u001b[0m 💤 ] Done. ✨ Results in folder: ./output\n"
     ]
    }
   ],
   "source": [
    "with DataDreamer(\"./output\"):\n",
    "\tcos_sim = CosineSimilarity(\n",
    "\t\tname = \"Cosine Similarities\",\n",
    "\t\tinputs = {\n",
    "\t\t\t\"a\": pos_embed.output[\"embeddings\"],\n",
    "\t\t\t\"b\": neg_embed.output[\"embeddings\"]\n",
    "\t\t},\n",
    "\t\targs = {\n",
    "\t\t\t\"embedder\": SentenceTransformersEmbedder(\n",
    "                model_name=\"AnnaWegmann/Style-Embedding\"\n",
    "            )\n",
    "\t\t},\n",
    "\t\toutputs = {\n",
    "\t\t\t\"a\": \"pos_sentences\",\n",
    "\t\t\t\"b\": \"neg_sentences\",\n",
    "\t\t\t\"similarities\": \"cos_sim\"\n",
    "\t\t},\n",
    "\t)"
   ]
  },
  {
   "cell_type": "code",
   "execution_count": 41,
   "metadata": {},
   "outputs": [
    {
     "name": "stdout",
     "output_type": "stream",
     "text": [
      "5\n"
     ]
    }
   ],
   "source": [
    "print(cos_sim.output.num_rows)"
   ]
  },
  {
   "cell_type": "code",
   "execution_count": null,
   "metadata": {},
   "outputs": [],
   "source": []
  }
 ],
 "metadata": {
  "kernelspec": {
   "display_name": "project_venv",
   "language": "python",
   "name": "python3"
  },
  "language_info": {
   "codemirror_mode": {
    "name": "ipython",
    "version": 3
   },
   "file_extension": ".py",
   "mimetype": "text/x-python",
   "name": "python",
   "nbconvert_exporter": "python",
   "pygments_lexer": "ipython3",
   "version": "3.11.6"
  }
 },
 "nbformat": 4,
 "nbformat_minor": 2
}
